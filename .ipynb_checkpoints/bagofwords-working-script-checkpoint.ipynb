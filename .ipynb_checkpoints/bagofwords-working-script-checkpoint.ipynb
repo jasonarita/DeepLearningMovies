{
 "cells": [
  {
   "cell_type": "code",
   "execution_count": 5,
   "metadata": {
    "collapsed": false
   },
   "outputs": [],
   "source": [
    "import pandas as pd"
   ]
  },
  {
   "cell_type": "markdown",
   "metadata": {},
   "source": [
    "## Read data from files"
   ]
  },
  {
   "cell_type": "code",
   "execution_count": 7,
   "metadata": {
    "collapsed": false
   },
   "outputs": [],
   "source": [
    "train           = pd.read_csv(\"./data/labeledTrainData.tsv\", \n",
    "                        header=0,\n",
    "                        delimiter=\"\\t\", \n",
    "                        quoting=3 )\n",
    "test            = pd.read_csv( \"./data/testData.tsv\", \n",
    "                        header=0, \n",
    "                        delimiter=\"\\t\", \n",
    "                        quoting=3 )\n",
    "unlabeled_train = pd.read_csv(\"./data/unlabeledTrainData.tsv\", \n",
    "                              header=0,\n",
    "                              delimiter=\"\\t\", \n",
    "                              quoting=3 )"
   ]
  },
  {
   "cell_type": "markdown",
   "metadata": {},
   "source": [
    "### Verify the number of reviews that were read (100,000 in total)"
   ]
  },
  {
   "cell_type": "code",
   "execution_count": 12,
   "metadata": {
    "collapsed": false
   },
   "outputs": [
    {
     "name": "stdout",
     "output_type": "stream",
     "text": [
      "Read 25000 labeled train reviews, 25000 labeled test reviews, and 50000 unlabeled reviews\n",
      "\n"
     ]
    }
   ],
   "source": [
    "print \\\n",
    " \"Read %d labeled train reviews, \" \\\n",
    " \"%d labeled test reviews, \" \\\n",
    " \"and %d unlabeled reviews\\n\" % \\\n",
    "(train[\"review\"].size,\n",
    " test[\"review\"].size, \n",
    " unlabeled_train[\"review\"].size )"
   ]
  },
  {
   "cell_type": "code",
   "execution_count": 13,
   "metadata": {
    "collapsed": false
   },
   "outputs": [
    {
     "data": {
      "text/html": [
       "<div style=\"max-height:1000px;max-width:1500px;overflow:auto;\">\n",
       "<table border=\"1\" class=\"dataframe\">\n",
       "  <thead>\n",
       "    <tr style=\"text-align: right;\">\n",
       "      <th></th>\n",
       "      <th>id</th>\n",
       "      <th>sentiment</th>\n",
       "      <th>review</th>\n",
       "    </tr>\n",
       "  </thead>\n",
       "  <tbody>\n",
       "    <tr>\n",
       "      <th>0</th>\n",
       "      <td>\"5814_8\"</td>\n",
       "      <td>1</td>\n",
       "      <td>\"With all this stuff going down at the moment ...</td>\n",
       "    </tr>\n",
       "    <tr>\n",
       "      <th>1</th>\n",
       "      <td>\"2381_9\"</td>\n",
       "      <td>1</td>\n",
       "      <td>\"\\\"The Classic War of the Worlds\\\" by Timothy ...</td>\n",
       "    </tr>\n",
       "    <tr>\n",
       "      <th>2</th>\n",
       "      <td>\"7759_3\"</td>\n",
       "      <td>0</td>\n",
       "      <td>\"The film starts with a manager (Nicholas Bell...</td>\n",
       "    </tr>\n",
       "    <tr>\n",
       "      <th>3</th>\n",
       "      <td>\"3630_4\"</td>\n",
       "      <td>0</td>\n",
       "      <td>\"It must be assumed that those who praised thi...</td>\n",
       "    </tr>\n",
       "    <tr>\n",
       "      <th>4</th>\n",
       "      <td>\"9495_8\"</td>\n",
       "      <td>1</td>\n",
       "      <td>\"Superbly trashy and wondrously unpretentious ...</td>\n",
       "    </tr>\n",
       "  </tbody>\n",
       "</table>\n",
       "</div>"
      ],
      "text/plain": [
       "         id  sentiment                                             review\n",
       "0  \"5814_8\"          1  \"With all this stuff going down at the moment ...\n",
       "1  \"2381_9\"          1  \"\\\"The Classic War of the Worlds\\\" by Timothy ...\n",
       "2  \"7759_3\"          0  \"The film starts with a manager (Nicholas Bell...\n",
       "3  \"3630_4\"          0  \"It must be assumed that those who praised thi...\n",
       "4  \"9495_8\"          1  \"Superbly trashy and wondrously unpretentious ..."
      ]
     },
     "execution_count": 13,
     "metadata": {},
     "output_type": "execute_result"
    }
   ],
   "source": [
    "train.head()"
   ]
  },
  {
   "cell_type": "code",
   "execution_count": 14,
   "metadata": {
    "collapsed": false
   },
   "outputs": [
    {
     "data": {
      "text/html": [
       "<div style=\"max-height:1000px;max-width:1500px;overflow:auto;\">\n",
       "<table border=\"1\" class=\"dataframe\">\n",
       "  <thead>\n",
       "    <tr style=\"text-align: right;\">\n",
       "      <th></th>\n",
       "      <th>id</th>\n",
       "      <th>review</th>\n",
       "    </tr>\n",
       "  </thead>\n",
       "  <tbody>\n",
       "    <tr>\n",
       "      <th>0</th>\n",
       "      <td>\"12311_10\"</td>\n",
       "      <td>\"Naturally in a film who's main themes are of ...</td>\n",
       "    </tr>\n",
       "    <tr>\n",
       "      <th>1</th>\n",
       "      <td>\"8348_2\"</td>\n",
       "      <td>\"This movie is a disaster within a disaster fi...</td>\n",
       "    </tr>\n",
       "    <tr>\n",
       "      <th>2</th>\n",
       "      <td>\"5828_4\"</td>\n",
       "      <td>\"All in all, this is a movie for kids. We saw ...</td>\n",
       "    </tr>\n",
       "    <tr>\n",
       "      <th>3</th>\n",
       "      <td>\"7186_2\"</td>\n",
       "      <td>\"Afraid of the Dark left me with the impressio...</td>\n",
       "    </tr>\n",
       "    <tr>\n",
       "      <th>4</th>\n",
       "      <td>\"12128_7\"</td>\n",
       "      <td>\"A very accurate depiction of small time mob l...</td>\n",
       "    </tr>\n",
       "  </tbody>\n",
       "</table>\n",
       "</div>"
      ],
      "text/plain": [
       "           id                                             review\n",
       "0  \"12311_10\"  \"Naturally in a film who's main themes are of ...\n",
       "1    \"8348_2\"  \"This movie is a disaster within a disaster fi...\n",
       "2    \"5828_4\"  \"All in all, this is a movie for kids. We saw ...\n",
       "3    \"7186_2\"  \"Afraid of the Dark left me with the impressio...\n",
       "4   \"12128_7\"  \"A very accurate depiction of small time mob l..."
      ]
     },
     "execution_count": 14,
     "metadata": {},
     "output_type": "execute_result"
    }
   ],
   "source": [
    "test.head()"
   ]
  },
  {
   "cell_type": "code",
   "execution_count": 15,
   "metadata": {
    "collapsed": false
   },
   "outputs": [
    {
     "data": {
      "text/html": [
       "<div style=\"max-height:1000px;max-width:1500px;overflow:auto;\">\n",
       "<table border=\"1\" class=\"dataframe\">\n",
       "  <thead>\n",
       "    <tr style=\"text-align: right;\">\n",
       "      <th></th>\n",
       "      <th>id</th>\n",
       "      <th>review</th>\n",
       "    </tr>\n",
       "  </thead>\n",
       "  <tbody>\n",
       "    <tr>\n",
       "      <th>0</th>\n",
       "      <td>\"9999_0\"</td>\n",
       "      <td>\"Watching Time Chasers, it obvious that it was...</td>\n",
       "    </tr>\n",
       "    <tr>\n",
       "      <th>1</th>\n",
       "      <td>\"45057_0\"</td>\n",
       "      <td>\"I saw this film about 20 years ago and rememb...</td>\n",
       "    </tr>\n",
       "    <tr>\n",
       "      <th>2</th>\n",
       "      <td>\"15561_0\"</td>\n",
       "      <td>\"Minor Spoilers&lt;br /&gt;&lt;br /&gt;In New York, Joan B...</td>\n",
       "    </tr>\n",
       "    <tr>\n",
       "      <th>3</th>\n",
       "      <td>\"7161_0\"</td>\n",
       "      <td>\"I went to see this film with a great deal of ...</td>\n",
       "    </tr>\n",
       "    <tr>\n",
       "      <th>4</th>\n",
       "      <td>\"43971_0\"</td>\n",
       "      <td>\"Yes, I agree with everyone on this site this ...</td>\n",
       "    </tr>\n",
       "  </tbody>\n",
       "</table>\n",
       "</div>"
      ],
      "text/plain": [
       "          id                                             review\n",
       "0   \"9999_0\"  \"Watching Time Chasers, it obvious that it was...\n",
       "1  \"45057_0\"  \"I saw this film about 20 years ago and rememb...\n",
       "2  \"15561_0\"  \"Minor Spoilers<br /><br />In New York, Joan B...\n",
       "3   \"7161_0\"  \"I went to see this film with a great deal of ...\n",
       "4  \"43971_0\"  \"Yes, I agree with everyone on this site this ..."
      ]
     },
     "execution_count": 15,
     "metadata": {},
     "output_type": "execute_result"
    }
   ],
   "source": [
    "unlabeled_train.head()"
   ]
  },
  {
   "cell_type": "markdown",
   "metadata": {},
   "source": [
    "## String cleaning"
   ]
  },
  {
   "cell_type": "code",
   "execution_count": 17,
   "metadata": {
    "collapsed": false
   },
   "outputs": [],
   "source": [
    "# Import various modules for string cleaning\n",
    "from bs4 import BeautifulSoup\n",
    "import re\n",
    "from nltk.corpus import stopwords\n",
    "\n",
    "def review_to_wordlist( review, remove_stopwords=False ):\n",
    "    # Function to convert a document to a sequence of words,\n",
    "    # optionally removing stop words. Returns a list of words.\n",
    "    #\n",
    "    \n",
    "    # 1. Remove HTML\n",
    "    review_text = BeautifulSoup(review).get_text()\n",
    "    \n",
    "    \n",
    "    # 2. Remove non-letters\n",
    "    review_text = re.sub(\"[^a-zA-Z]\",\" \", review_text)\n",
    "    \n",
    "    # 3. Convert words to lower case and split them\n",
    "    words = review_text.lower().split()\n",
    "    \n",
    "    # 4. Optionally remove stop words (false by default)\n",
    "    if remove_stopwords:\n",
    "        stops = set(stopwords.words(\"english\"))\n",
    "        words = [w for w in words if not w in stops]\n",
    "    \n",
    "    # 5. Return a list of words\n",
    "    return(words)"
   ]
  },
  {
   "cell_type": "markdown",
   "metadata": {},
   "source": [
    "## Split paragraphs into sentences (for word2vec)"
   ]
  },
  {
   "cell_type": "code",
   "execution_count": 28,
   "metadata": {
    "collapsed": false
   },
   "outputs": [
    {
     "name": "stdout",
     "output_type": "stream",
     "text": [
      "showing info http://www.nltk.org/nltk_data/\n"
     ]
    }
   ],
   "source": [
    "# Download the punkt tokenizer for sentence splitting\n",
    "import nltk.data\n",
    "# nltk.download()\n",
    "\n",
    "\n",
    "\n",
    "# Define a function to split a review into parsed sentences\n",
    "def review_to_sentences( review, tokenizer, remove_stopwords=False ):\n",
    "    # Function to split a review into parsed sentences. Returns a\n",
    "    # list of sentences, where each sentence is a list of words\n",
    "    # thus returns a list of lists\n",
    "    \n",
    "    # 1. Use the NLTK tokenizer to split the paragraph into sentences\n",
    "    raw_sentences = tokenizer.tokenize(review.strip().decode(\"utf8\"))\n",
    "    \n",
    "    # 2. Loop over each sentence\n",
    "    sentences = []\n",
    "    for raw_sentence in raw_sentences:\n",
    "        # If a sentence is empty, skip it\n",
    "        if len(raw_sentence) > 0:\n",
    "            # Otherwise, call review_to_wordlist to get a list of words\n",
    "            sentences.append( review_to_wordlist(raw_sentence, \\\n",
    "                                                 remove_stopwords ))\n",
    "    #\n",
    "    # Return the list of sentences (each sentence is a list of words,\n",
    "    # so this returns a list of lists\n",
    "    return sentences"
   ]
  },
  {
   "cell_type": "code",
   "execution_count": 29,
   "metadata": {
    "collapsed": false
   },
   "outputs": [
    {
     "name": "stderr",
     "output_type": "stream",
     "text": [
      "/Users/jason/anaconda/lib/python2.7/site-packages/bs4/__init__.py:182: UserWarning: \".\" looks like a filename, not markup. You should probably open this file and pass the filehandle into Beautiful Soup.\n",
      "  '\"%s\" looks like a filename, not markup. You should probably open this file and pass the filehandle into Beautiful Soup.' % markup)\n",
      "/Users/jason/anaconda/lib/python2.7/site-packages/bs4/__init__.py:189: UserWarning: \"http://www.happierabroad.com\"\" looks like a URL. Beautiful Soup is not an HTTP client. You should probably use an HTTP client to get the document behind the URL, and feed that document to Beautiful Soup.\n",
      "  '\"%s\" looks like a URL. Beautiful Soup is not an HTTP client. You should probably use an HTTP client to get the document behind the URL, and feed that document to Beautiful Soup.' % markup)\n"
     ]
    },
    {
     "name": "stdout",
     "output_type": "stream",
     "text": [
      "Parsing sentences from training set\n",
      "Parsing sentences from unlabeled set"
     ]
    },
    {
     "name": "stderr",
     "output_type": "stream",
     "text": [
      "/Users/jason/anaconda/lib/python2.7/site-packages/bs4/__init__.py:189: UserWarning: \"http://www.archive.org/details/LovefromaStranger\"\" looks like a URL. Beautiful Soup is not an HTTP client. You should probably use an HTTP client to get the document behind the URL, and feed that document to Beautiful Soup.\n",
      "  '\"%s\" looks like a URL. Beautiful Soup is not an HTTP client. You should probably use an HTTP client to get the document behind the URL, and feed that document to Beautiful Soup.' % markup)\n",
      "/Users/jason/anaconda/lib/python2.7/site-packages/bs4/__init__.py:189: UserWarning: \"http://www.loosechangeguide.com/LooseChangeGuide.html\"\" looks like a URL. Beautiful Soup is not an HTTP client. You should probably use an HTTP client to get the document behind the URL, and feed that document to Beautiful Soup.\n",
      "  '\"%s\" looks like a URL. Beautiful Soup is not an HTTP client. You should probably use an HTTP client to get the document behind the URL, and feed that document to Beautiful Soup.' % markup)\n",
      "/Users/jason/anaconda/lib/python2.7/site-packages/bs4/__init__.py:189: UserWarning: \"http://www.msnbc.msn.com/id/4972055/site/newsweek/\"\" looks like a URL. Beautiful Soup is not an HTTP client. You should probably use an HTTP client to get the document behind the URL, and feed that document to Beautiful Soup.\n",
      "  '\"%s\" looks like a URL. Beautiful Soup is not an HTTP client. You should probably use an HTTP client to get the document behind the URL, and feed that document to Beautiful Soup.' % markup)\n",
      "/Users/jason/anaconda/lib/python2.7/site-packages/bs4/__init__.py:182: UserWarning: \"..\" looks like a filename, not markup. You should probably open this file and pass the filehandle into Beautiful Soup.\n",
      "  '\"%s\" looks like a filename, not markup. You should probably open this file and pass the filehandle into Beautiful Soup.' % markup)\n",
      "/Users/jason/anaconda/lib/python2.7/site-packages/bs4/__init__.py:189: UserWarning: \"http://www.youtube.com/watch?v=a0KSqelmgN8\"\" looks like a URL. Beautiful Soup is not an HTTP client. You should probably use an HTTP client to get the document behind the URL, and feed that document to Beautiful Soup.\n",
      "  '\"%s\" looks like a URL. Beautiful Soup is not an HTTP client. You should probably use an HTTP client to get the document behind the URL, and feed that document to Beautiful Soup.' % markup)\n",
      "/Users/jason/anaconda/lib/python2.7/site-packages/bs4/__init__.py:189: UserWarning: \"http://jake-weird.blogspot.com/2007/08/beneath.html\"\" looks like a URL. Beautiful Soup is not an HTTP client. You should probably use an HTTP client to get the document behind the URL, and feed that document to Beautiful Soup.\n",
      "  '\"%s\" looks like a URL. Beautiful Soup is not an HTTP client. You should probably use an HTTP client to get the document behind the URL, and feed that document to Beautiful Soup.' % markup)\n"
     ]
    },
    {
     "name": "stdout",
     "output_type": "stream",
     "text": [
      "\n"
     ]
    }
   ],
   "source": [
    "# Load the punkt tokenizer\n",
    "tokenizer = nltk.data.load('tokenizers/punkt/english.pickle')\n",
    "\n",
    "sentences = [] # Initialize an empty list of sentences\n",
    "\n",
    "print \"Parsing sentences from training set\" \n",
    "for review in train[\"review\"]: \n",
    "    sentences += review_to_sentences(review, tokenizer) \n",
    "    \n",
    "print \"Parsing sentences from unlabeled set\" \n",
    "for review in unlabeled_train[\"review\"]: \n",
    "    sentences += review_to_sentences(review, tokenizer)\n",
    "        "
   ]
  },
  {
   "cell_type": "code",
   "execution_count": 33,
   "metadata": {
    "collapsed": false
   },
   "outputs": [
    {
     "data": {
      "text/plain": [
       "795538"
      ]
     },
     "execution_count": 33,
     "metadata": {},
     "output_type": "execute_result"
    }
   ],
   "source": [
    "len(sentences)"
   ]
  },
  {
   "cell_type": "code",
   "execution_count": 34,
   "metadata": {
    "collapsed": false
   },
   "outputs": [
    {
     "data": {
      "text/plain": [
       "[u'with',\n",
       " u'all',\n",
       " u'this',\n",
       " u'stuff',\n",
       " u'going',\n",
       " u'down',\n",
       " u'at',\n",
       " u'the',\n",
       " u'moment',\n",
       " u'with',\n",
       " u'mj',\n",
       " u'i',\n",
       " u've',\n",
       " u'started',\n",
       " u'listening',\n",
       " u'to',\n",
       " u'his',\n",
       " u'music',\n",
       " u'watching',\n",
       " u'the',\n",
       " u'odd',\n",
       " u'documentary',\n",
       " u'here',\n",
       " u'and',\n",
       " u'there',\n",
       " u'watched',\n",
       " u'the',\n",
       " u'wiz',\n",
       " u'and',\n",
       " u'watched',\n",
       " u'moonwalker',\n",
       " u'again']"
      ]
     },
     "execution_count": 34,
     "metadata": {},
     "output_type": "execute_result"
    }
   ],
   "source": [
    "sentences[0]"
   ]
  },
  {
   "cell_type": "code",
   "execution_count": 35,
   "metadata": {
    "collapsed": false
   },
   "outputs": [
    {
     "data": {
      "text/plain": [
       "[u'maybe',\n",
       " u'i',\n",
       " u'just',\n",
       " u'want',\n",
       " u'to',\n",
       " u'get',\n",
       " u'a',\n",
       " u'certain',\n",
       " u'insight',\n",
       " u'into',\n",
       " u'this',\n",
       " u'guy',\n",
       " u'who',\n",
       " u'i',\n",
       " u'thought',\n",
       " u'was',\n",
       " u'really',\n",
       " u'cool',\n",
       " u'in',\n",
       " u'the',\n",
       " u'eighties',\n",
       " u'just',\n",
       " u'to',\n",
       " u'maybe',\n",
       " u'make',\n",
       " u'up',\n",
       " u'my',\n",
       " u'mind',\n",
       " u'whether',\n",
       " u'he',\n",
       " u'is',\n",
       " u'guilty',\n",
       " u'or',\n",
       " u'innocent']"
      ]
     },
     "execution_count": 35,
     "metadata": {},
     "output_type": "execute_result"
    }
   ],
   "source": [
    "sentences[1]"
   ]
  },
  {
   "cell_type": "markdown",
   "metadata": {},
   "source": [
    "### Import the built-in logging module and configure it so that Word2Vec creates nice output messages"
   ]
  },
  {
   "cell_type": "code",
   "execution_count": 36,
   "metadata": {
    "collapsed": true
   },
   "outputs": [],
   "source": [
    "import logging \n",
    "logging.basicConfig(format='%(asctime)s : %(levelname)s : %(message)s',\\\n",
    "                                   level=logging.INFO)"
   ]
  },
  {
   "cell_type": "markdown",
   "metadata": {},
   "source": [
    "### Set values for various parameters "
   ]
  },
  {
   "cell_type": "code",
   "execution_count": 40,
   "metadata": {
    "collapsed": true
   },
   "outputs": [],
   "source": [
    "num_features   = 300  # Word vector dimensionality \n",
    "min_word_count = 40   # Minimum word count \n",
    "num_workers    = 4 # Number of threads to run in parallel \n",
    "context        = 10   # Context window size \n",
    "downsampling   = 1e-3 # Downsample setting for frequent words Initialize and train the model (this will take some time)"
   ]
  },
  {
   "cell_type": "code",
   "execution_count": 41,
   "metadata": {
    "collapsed": false
   },
   "outputs": [
    {
     "name": "stdout",
     "output_type": "stream",
     "text": [
      "Training model...\n"
     ]
    }
   ],
   "source": [
    "from gensim.models import word2vec \n",
    "\n",
    "print \"Training model...\" \n",
    "model = word2vec.Word2Vec(sentences, \n",
    "                          workers = num_workers, \n",
    "                          size = num_features, \n",
    "                          min_count = min_word_count, \n",
    "                          window = context, \n",
    "                          sample = downsampling)"
   ]
  },
  {
   "cell_type": "code",
   "execution_count": null,
   "metadata": {
    "collapsed": true
   },
   "outputs": [],
   "source": []
  },
  {
   "cell_type": "markdown",
   "metadata": {},
   "source": [
    "### If you don't plan to train the model any further, calling init_sims will make the model much more memory-efficient. "
   ]
  },
  {
   "cell_type": "code",
   "execution_count": 42,
   "metadata": {
    "collapsed": true
   },
   "outputs": [],
   "source": [
    "model.init_sims(replace=True)"
   ]
  },
  {
   "cell_type": "markdown",
   "metadata": {},
   "source": [
    "## It can be helpful to create a meaningful model name and save the model for later use. You can load it later using Word2Vec.load() "
   ]
  },
  {
   "cell_type": "code",
   "execution_count": 43,
   "metadata": {
    "collapsed": true
   },
   "outputs": [],
   "source": [
    "model_name = \"300features_40minwords_10context\" \n",
    "model.save(model_name)"
   ]
  },
  {
   "cell_type": "markdown",
   "metadata": {},
   "source": [
    "## Exploring the Model\n",
    " \n",
    " | function | example |\n",
    " | ---- | -----|\n",
    " | `doesnt_match` | `model.doesnt_match(\"france england germany berlin\".split())` |\n",
    " | `most_similar` | `model.most_similar(\"queen\")` |\n",
    " "
   ]
  },
  {
   "cell_type": "code",
   "execution_count": 45,
   "metadata": {
    "collapsed": false
   },
   "outputs": [
    {
     "data": {
      "text/plain": [
       "'germany'"
      ]
     },
     "execution_count": 45,
     "metadata": {},
     "output_type": "execute_result"
    }
   ],
   "source": [
    "model.doesnt_match(\"france england germany berling\".split())"
   ]
  },
  {
   "cell_type": "code",
   "execution_count": 46,
   "metadata": {
    "collapsed": false
   },
   "outputs": [
    {
     "data": {
      "text/plain": [
       "'bike'"
      ]
     },
     "execution_count": 46,
     "metadata": {},
     "output_type": "execute_result"
    }
   ],
   "source": [
    "model.doesnt_match(\"boy girl bike man\".split())"
   ]
  },
  {
   "cell_type": "code",
   "execution_count": 64,
   "metadata": {
    "collapsed": false
   },
   "outputs": [
    {
     "data": {
      "text/plain": [
       "[(u'motorcycle', 0.47206515073776245),\n",
       " (u'turtle', 0.4644344449043274),\n",
       " (u'hulking', 0.4642839729785919),\n",
       " (u'bites', 0.45639750361442566),\n",
       " (u'lizard', 0.4536462128162384),\n",
       " (u'fangs', 0.44564709067344666),\n",
       " (u'pistol', 0.4318196773529053),\n",
       " (u'cloak', 0.43138134479522705),\n",
       " (u'knife', 0.4273102879524231),\n",
       " (u'minions', 0.426739901304245)]"
      ]
     },
     "execution_count": 64,
     "metadata": {},
     "output_type": "execute_result"
    }
   ],
   "source": [
    "model.most_similar(\"snake\")"
   ]
  },
  {
   "cell_type": "code",
   "execution_count": 87,
   "metadata": {
    "collapsed": false
   },
   "outputs": [
    {
     "data": {
      "text/plain": [
       "0.40684348204255594"
      ]
     },
     "execution_count": 87,
     "metadata": {},
     "output_type": "execute_result"
    }
   ],
   "source": [
    "model.n_similarity(['plate'], ['fork'])"
   ]
  },
  {
   "cell_type": "markdown",
   "metadata": {},
   "source": [
    "## Applying the model to Sentiment Analysis"
   ]
  },
  {
   "cell_type": "code",
   "execution_count": 65,
   "metadata": {
    "collapsed": false
   },
   "outputs": [
    {
     "data": {
      "text/plain": [
       "[(u'terrible', 0.6811178922653198),\n",
       " (u'horrible', 0.6348459720611572),\n",
       " (u'dreadful', 0.6177953481674194),\n",
       " (u'atrocious', 0.5852271318435669),\n",
       " (u'abysmal', 0.5372596979141235),\n",
       " (u'embarrassing', 0.5354124307632446),\n",
       " (u'laughable', 0.5241398811340332),\n",
       " (u'stupid', 0.5019369125366211),\n",
       " (u'horrendous', 0.49889957904815674),\n",
       " (u'ridiculous', 0.49225881695747375)]"
      ]
     },
     "execution_count": 65,
     "metadata": {},
     "output_type": "execute_result"
    }
   ],
   "source": [
    "model.most_similar(\"awful\")"
   ]
  },
  {
   "cell_type": "code",
   "execution_count": 66,
   "metadata": {
    "collapsed": false
   },
   "outputs": [
    {
     "data": {
      "text/plain": [
       "[(u'amazing', 0.6319092512130737),\n",
       " (u'fantastic', 0.5662792921066284),\n",
       " (u'incredible', 0.5431410074234009),\n",
       " (u'cool', 0.5132240056991577),\n",
       " (u'excellent', 0.5117427110671997),\n",
       " (u'terrific', 0.49125543236732483),\n",
       " (u'outstanding', 0.4709164798259735),\n",
       " (u'exceptional', 0.461086630821228),\n",
       " (u'great', 0.4590803384780884),\n",
       " (u'brilliant', 0.4431536793708801)]"
      ]
     },
     "execution_count": 66,
     "metadata": {},
     "output_type": "execute_result"
    }
   ],
   "source": [
    "model.most_similar(\"awesome\")"
   ]
  },
  {
   "cell_type": "markdown",
   "metadata": {},
   "source": [
    "So it seems we have a reasonably good model for semantic meaning - at least as good as Bag of Words. But how can we use these fancy distributed word vectors for supervised learning? The next section takes a stab at that."
   ]
  },
  {
   "cell_type": "markdown",
   "metadata": {},
   "source": [
    "# Load the model that we created in Part 2"
   ]
  },
  {
   "cell_type": "code",
   "execution_count": 88,
   "metadata": {
    "collapsed": true
   },
   "outputs": [],
   "source": [
    "from gensim.models import Word2Vec\n",
    "model = Word2Vec.load(\"300features_40minwords_10context\")"
   ]
  },
  {
   "cell_type": "code",
   "execution_count": 89,
   "metadata": {
    "collapsed": false
   },
   "outputs": [
    {
     "data": {
      "text/plain": [
       "numpy.ndarray"
      ]
     },
     "execution_count": 89,
     "metadata": {},
     "output_type": "execute_result"
    }
   ],
   "source": [
    "type(model.syn0)"
   ]
  },
  {
   "cell_type": "code",
   "execution_count": 90,
   "metadata": {
    "collapsed": false
   },
   "outputs": [
    {
     "data": {
      "text/plain": [
       "(16490, 300)"
      ]
     },
     "execution_count": 90,
     "metadata": {},
     "output_type": "execute_result"
    }
   ],
   "source": [
    "model.syn0.shape "
   ]
  },
  {
   "cell_type": "markdown",
   "metadata": {},
   "source": [
    "One challenge with the IMDB dataset is the **variable-length reviews.**\n",
    "\n",
    "We need to find a way to **take individual word vectors and transform them into a feature set that is the same length for every review.**\n",
    "\n",
    "**Each word is a vector is a 300-dimensional space**\n",
    "\n",
    "Because of this, we can use **vector operations to combine the words in each review.**\n",
    "\n",
    "The first method we will try is to simply **average the word vectors**"
   ]
  },
  {
   "cell_type": "markdown",
   "metadata": {},
   "source": [
    "# Attempt 1: Vector Averaging"
   ]
  },
  {
   "cell_type": "code",
   "execution_count": 91,
   "metadata": {
    "collapsed": true
   },
   "outputs": [],
   "source": [
    "import numpy as np"
   ]
  },
  {
   "cell_type": "code",
   "execution_count": 154,
   "metadata": {
    "collapsed": true
   },
   "outputs": [],
   "source": [
    "def makeFeatureVec(words, model, num_features):\n",
    "    # Average all word vectors in a given paragraph\n",
    "    #\n",
    "    \n",
    "    \n",
    "    # Pre-initialize an empty numpy array (for speed)\n",
    "    featureVec = np.zeros((num_features,), dtype=\"float32\")\n",
    "    nwords = 0\n",
    "    \n",
    "    # Index2word is a list that contains the names of the words\n",
    "    # in the model's vocabulary. Convert it to a set, for speed\n",
    "    index2word_set = set(model.index2word)\n",
    "    \n",
    "    # Loop over each word in the review and, if it's in the model's\n",
    "    # vocabulary, add its feature vector to the total\n",
    "    for word in words:\n",
    "        if word in index2word_set:\n",
    "            featureVec = np.add(featureVec, model[word])\n",
    "            nwords = nwords+1\n",
    "        \n",
    "    \n",
    "    \n",
    "    # Divide the result by the number of words to get the average\n",
    "    featureVec = np.divide(featureVec, nwords)\n",
    "    \n",
    "    return featureVec"
   ]
  },
  {
   "cell_type": "markdown",
   "metadata": {},
   "source": [
    "## Function: INDEX2WORD\n",
    "Returns a list that contains the names of the word's in a model's\n",
    "vocabulary"
   ]
  },
  {
   "cell_type": "code",
   "execution_count": 96,
   "metadata": {
    "collapsed": false
   },
   "outputs": [
    {
     "data": {
      "text/plain": [
       "[u'woods',\n",
       " u'spiders',\n",
       " u'hanging',\n",
       " u'woody',\n",
       " u'hastily',\n",
       " u'comically',\n",
       " u'rickman',\n",
       " u'screaming',\n",
       " u'grueling',\n",
       " u'wooden',\n",
       " u'wednesday',\n",
       " u'crotch',\n",
       " u'shows',\n",
       " u'bronte',\n",
       " u'errors',\n",
       " u'dialogs',\n",
       " u'brainwashed',\n",
       " u'kids',\n",
       " u'uplifting',\n",
       " u'controversy',\n",
       " u'lingo',\n",
       " u'projection',\n",
       " u'stern',\n",
       " u'dna',\n",
       " u'yahoo',\n",
       " u'boorman',\n",
       " u'morally',\n",
       " u'wang',\n",
       " u'want',\n",
       " u'tchaikovsky',\n",
       " u'travel',\n",
       " u'copious',\n",
       " u'hi',\n",
       " u'barbra',\n",
       " u'dinosaurs',\n",
       " u'modest',\n",
       " u'subplots',\n",
       " u'welcomed',\n",
       " u'wickedly',\n",
       " u'fit',\n",
       " u'bringing',\n",
       " u'fix',\n",
       " u'zucker',\n",
       " u'songwriter',\n",
       " u'effects',\n",
       " u'barton',\n",
       " u'ingrid',\n",
       " u'parasites',\n",
       " u'adapt',\n",
       " u'size',\n",
       " u'abbott',\n",
       " u'gameplay',\n",
       " u'silent',\n",
       " u'disturbed',\n",
       " u'olds',\n",
       " u'needed',\n",
       " u'master',\n",
       " u'genesis',\n",
       " u'rewards',\n",
       " u'mutilated',\n",
       " u'positively',\n",
       " u'ahmed',\n",
       " u'zatoichi',\n",
       " u'bannister',\n",
       " u'feeling',\n",
       " u'affairs',\n",
       " u'wholesome',\n",
       " u'cinematic',\n",
       " u'resonates',\n",
       " u'tech',\n",
       " u'saying',\n",
       " u'padded',\n",
       " u'plate',\n",
       " u'platt',\n",
       " u'altogether',\n",
       " u'rugged',\n",
       " u'droning',\n",
       " u'lds',\n",
       " u'jaguar',\n",
       " u'nicely',\n",
       " u'patch',\n",
       " u'lots',\n",
       " u'lotr',\n",
       " u'irs',\n",
       " u'ira',\n",
       " u'discipline',\n",
       " u'extend',\n",
       " u'nature',\n",
       " u'superficial',\n",
       " u'extent',\n",
       " u'sublime',\n",
       " u'humming',\n",
       " u'bothers',\n",
       " u'much',\n",
       " u'fry',\n",
       " u'obese',\n",
       " u'spit',\n",
       " u'arkin',\n",
       " u'doubts',\n",
       " u'spin',\n",
       " u'professionally',\n",
       " u'conditioned',\n",
       " u'hong',\n",
       " u'academic',\n",
       " u'corporate',\n",
       " u'golden',\n",
       " u'antagonists',\n",
       " u'hai',\n",
       " u'hal',\n",
       " u'ham',\n",
       " u'han',\n",
       " u'had',\n",
       " u'advancement',\n",
       " u'hay',\n",
       " u'har',\n",
       " u'has',\n",
       " u'hat',\n",
       " u'elders',\n",
       " u'indicative',\n",
       " u'crowd',\n",
       " u'crowe',\n",
       " u'czech',\n",
       " u'crown',\n",
       " u'captive',\n",
       " u'bottom',\n",
       " u'inhuman',\n",
       " u'starring',\n",
       " u'mediocrity',\n",
       " u'marshall',\n",
       " u'honeymoon',\n",
       " u'splitting',\n",
       " u'shoots',\n",
       " u'despised',\n",
       " u'fabric',\n",
       " u'raped',\n",
       " u'grasping',\n",
       " u'rapes',\n",
       " u'congratulations',\n",
       " u'passenger',\n",
       " u'disgrace',\n",
       " u'barrymore',\n",
       " u'decapitation',\n",
       " u'cambodia',\n",
       " u'acquaintance',\n",
       " u'palma',\n",
       " u'aragorn',\n",
       " u'explosions',\n",
       " u'loren',\n",
       " u'laughed',\n",
       " u'shootout',\n",
       " u'chain',\n",
       " u'whoever',\n",
       " u'chair',\n",
       " u'ballet',\n",
       " u'macho',\n",
       " u'jerk',\n",
       " u'embark',\n",
       " u'gloomy',\n",
       " u'exact',\n",
       " u'minute',\n",
       " u'skewed',\n",
       " u'heavyweight',\n",
       " u'chopping',\n",
       " u'celebrated',\n",
       " u'geography',\n",
       " u'celebrates',\n",
       " u'unintentionally',\n",
       " u'drafted',\n",
       " u'climbs',\n",
       " u'honour',\n",
       " u'address',\n",
       " u'menjou',\n",
       " u'benson',\n",
       " u'cusack',\n",
       " u'houseman',\n",
       " u'opposed',\n",
       " u'goody',\n",
       " u'following',\n",
       " u'listens',\n",
       " u'in',\n",
       " u'maude',\n",
       " u'sour',\n",
       " u'convincingly',\n",
       " u'fueled',\n",
       " u'harmon',\n",
       " u'surfing',\n",
       " u'belial',\n",
       " u'professors',\n",
       " u'jimmy',\n",
       " u'jim',\n",
       " u'didn',\n",
       " u'quarter',\n",
       " u'quartet',\n",
       " u'bursting',\n",
       " u'entering',\n",
       " u'disasters',\n",
       " u'seriously',\n",
       " u'zenda',\n",
       " u'raunchy',\n",
       " u'grandma',\n",
       " u'wrong',\n",
       " u'quibble',\n",
       " u'spoken',\n",
       " u'concert',\n",
       " u'lingering',\n",
       " u'snatch',\n",
       " u'rehab',\n",
       " u'wandering',\n",
       " u'sumptuous',\n",
       " u'turned',\n",
       " u'jewels',\n",
       " u'turner',\n",
       " u'frenzied',\n",
       " u'zoe',\n",
       " u'fashionable',\n",
       " u'zoo',\n",
       " u'opposite',\n",
       " u'squalor',\n",
       " u'spewing',\n",
       " u'grateful',\n",
       " u'touchy',\n",
       " u'denholm',\n",
       " u'imagines',\n",
       " u'boyz',\n",
       " u'inconsistent',\n",
       " u'imagined',\n",
       " u'aimlessly',\n",
       " u'pimp',\n",
       " u'breslin',\n",
       " u'dexter',\n",
       " u'interpretation',\n",
       " u'tsui',\n",
       " u'menacing',\n",
       " u'convoluted',\n",
       " u'millionaire',\n",
       " u'flipped',\n",
       " u'workplace',\n",
       " u'west',\n",
       " u'motives',\n",
       " u'readings',\n",
       " u'photos',\n",
       " u'abject',\n",
       " u'unlikeable',\n",
       " u'technology',\n",
       " u'otto',\n",
       " u'visually',\n",
       " u'advertisement',\n",
       " u'being',\n",
       " u'generator',\n",
       " u'excuses',\n",
       " u'cloris',\n",
       " u'sums',\n",
       " u'traffic',\n",
       " u'preference',\n",
       " u'sensational',\n",
       " u'superiority',\n",
       " u'satisfactory',\n",
       " u'francois',\n",
       " u'thailand',\n",
       " u'prepared',\n",
       " u'hopkins',\n",
       " u'sensitively',\n",
       " u'antidote',\n",
       " u'lively',\n",
       " u'rossi',\n",
       " u'bubbly',\n",
       " u'sealed',\n",
       " u'brazilian',\n",
       " u'bubble',\n",
       " u'wits',\n",
       " u'dangers',\n",
       " u'societal',\n",
       " u'with',\n",
       " u'abused',\n",
       " u'rage',\n",
       " u'tripe',\n",
       " u'rags',\n",
       " u'dirty',\n",
       " u'abuses',\n",
       " u'trips',\n",
       " u'hannibal',\n",
       " u'watches',\n",
       " u'watcher',\n",
       " u'ensuing',\n",
       " u'watched',\n",
       " u'cream',\n",
       " u'rocked',\n",
       " u'friggin',\n",
       " u'waving',\n",
       " u'brotherhood',\n",
       " u'tricky',\n",
       " u'natalie',\n",
       " u'tricks',\n",
       " u'caused',\n",
       " u'beware',\n",
       " u'anderton',\n",
       " u'riots',\n",
       " u'nora',\n",
       " u'norm',\n",
       " u'sant',\n",
       " u'sans',\n",
       " u'sang',\n",
       " u'sand',\n",
       " u'sane',\n",
       " u'sank',\n",
       " u'leia',\n",
       " u'hasn',\n",
       " u'portrays',\n",
       " u'traumatized',\n",
       " u'silva',\n",
       " u'more',\n",
       " u'company',\n",
       " u'corrected',\n",
       " u'leary',\n",
       " u'patriarch',\n",
       " u'learn',\n",
       " u'knocked',\n",
       " u'macross',\n",
       " u'huge',\n",
       " u'hugo',\n",
       " u'hugh',\n",
       " u'dismissed',\n",
       " u'scifi',\n",
       " u'disgraced',\n",
       " u'brett',\n",
       " u'malevolent',\n",
       " u'resemble',\n",
       " u'twisting',\n",
       " u'scott',\n",
       " u'saucy',\n",
       " u'bendix',\n",
       " u'isaac',\n",
       " u'colleague',\n",
       " u'abandons',\n",
       " u'gadget',\n",
       " u'document',\n",
       " u'everytime',\n",
       " u'shocking',\n",
       " u'begged',\n",
       " u'palance',\n",
       " u'lipstick',\n",
       " u'ernie',\n",
       " u'research',\n",
       " u'izo',\n",
       " u'preservation',\n",
       " u'saint',\n",
       " u'getaway',\n",
       " u'exuberant',\n",
       " u'blond',\n",
       " u'recognizing',\n",
       " u'singles',\n",
       " u'understands',\n",
       " u'seize',\n",
       " u'devgan',\n",
       " u'blended',\n",
       " u'naomi',\n",
       " u'overwhelmed',\n",
       " u'indifference',\n",
       " u'lombard',\n",
       " u'secular',\n",
       " u'yeager',\n",
       " u'scars',\n",
       " u'pleasures',\n",
       " u'insane',\n",
       " u'activists',\n",
       " u'collectively',\n",
       " u'callahan',\n",
       " u'thrive',\n",
       " u'objects',\n",
       " u'retarded',\n",
       " u'bell',\n",
       " u'bela',\n",
       " u'adaptation',\n",
       " u'luis',\n",
       " u'belt',\n",
       " u'satire',\n",
       " u'geoffrey',\n",
       " u'proprietor',\n",
       " u'extravagant',\n",
       " u'treatment',\n",
       " u'awake',\n",
       " u'budget',\n",
       " u'pressed',\n",
       " u'eve',\n",
       " u'raiders',\n",
       " u'fleischer',\n",
       " u'nickname',\n",
       " u'infamous',\n",
       " u'lads',\n",
       " u'hercules',\n",
       " u'parents',\n",
       " u'couple',\n",
       " u'pounds',\n",
       " u'chorus',\n",
       " u'bounce',\n",
       " u'underbelly',\n",
       " u'behave',\n",
       " u'downward',\n",
       " u'breasted',\n",
       " u'gallagher',\n",
       " u'terrorists',\n",
       " u'into',\n",
       " u'katie',\n",
       " u'fragmented',\n",
       " u'atlantis',\n",
       " u'hawaiian',\n",
       " u'barman',\n",
       " u'atlantic',\n",
       " u'intestines',\n",
       " u'erich',\n",
       " u'erica',\n",
       " u'paired',\n",
       " u'execs',\n",
       " u'influence',\n",
       " u'haunt',\n",
       " u'intrepid',\n",
       " u'puzzling',\n",
       " u'bianca',\n",
       " u'creasy',\n",
       " u'detectives',\n",
       " u'unforgiving',\n",
       " u'dickinson',\n",
       " u'cannibals',\n",
       " u'video',\n",
       " u'dynamics',\n",
       " u'tempted',\n",
       " u'victor',\n",
       " u'sweaty',\n",
       " u'flowing',\n",
       " u'cukor',\n",
       " u'fifteen',\n",
       " u'makes',\n",
       " u'maker',\n",
       " u'confidence',\n",
       " u'fondness',\n",
       " u'antichrist',\n",
       " u'customer',\n",
       " u'unknowns',\n",
       " u'rode',\n",
       " u'tightrope',\n",
       " u'comedy',\n",
       " u'intelligent',\n",
       " u'chow',\n",
       " u'houston',\n",
       " u'insight',\n",
       " u'protests',\n",
       " u'derivative',\n",
       " u'snake',\n",
       " u'scenic',\n",
       " u'denzel',\n",
       " u'shortage',\n",
       " u'heated',\n",
       " u'alejandro',\n",
       " u'books',\n",
       " u'bigfoot',\n",
       " u'witness',\n",
       " u'greedy',\n",
       " u'could',\n",
       " u'spongebob',\n",
       " u'lumet',\n",
       " u'interests',\n",
       " u'enforcement',\n",
       " u'quarry',\n",
       " u'commandant',\n",
       " u'orchestrated',\n",
       " u'gays',\n",
       " u'false',\n",
       " u'tonight',\n",
       " u'sinatra',\n",
       " u'manor',\n",
       " u'manos',\n",
       " u'placement',\n",
       " u'bred',\n",
       " u'scotty',\n",
       " u'tape',\n",
       " u'riding',\n",
       " u'abby',\n",
       " u'taxes',\n",
       " u'stuff',\n",
       " u'ohio',\n",
       " u'guessing',\n",
       " u'bucket',\n",
       " u'frame',\n",
       " u'dungeon',\n",
       " u'destiny',\n",
       " u'nuclear',\n",
       " u'preminger',\n",
       " u'mccarey',\n",
       " u'staring',\n",
       " u'marty',\n",
       " u'boyer',\n",
       " u'stylistically',\n",
       " u'genetic',\n",
       " u'feather',\n",
       " u'moved',\n",
       " u'coherence',\n",
       " u'hateful',\n",
       " u'nero',\n",
       " u'greater',\n",
       " u'tattoo',\n",
       " u'gibbs',\n",
       " u'off',\n",
       " u'oft',\n",
       " u'newest',\n",
       " u'crack',\n",
       " u'crud',\n",
       " u'crux',\n",
       " u'cruz',\n",
       " u'roberta',\n",
       " u'debatable',\n",
       " u'become',\n",
       " u'matin',\n",
       " u'recognition',\n",
       " u'passion',\n",
       " u'imaginary',\n",
       " u'swimming',\n",
       " u'letters',\n",
       " u'initially',\n",
       " u'pairing',\n",
       " u'peters',\n",
       " u'moonstruck',\n",
       " u'tossed',\n",
       " u'excitement',\n",
       " u'garbo',\n",
       " u'tosses',\n",
       " u'problem',\n",
       " u'walters',\n",
       " u'nonetheless',\n",
       " u'details',\n",
       " u'exposure',\n",
       " u'compete',\n",
       " u'villainous',\n",
       " u'plods',\n",
       " u'madsen',\n",
       " u'yikes',\n",
       " u'integrity',\n",
       " u'stinks',\n",
       " u'porno',\n",
       " u'neighbours',\n",
       " u'aurora',\n",
       " u'summarized',\n",
       " u'progression',\n",
       " u'samurai',\n",
       " u'depraved',\n",
       " u'machines',\n",
       " u'paulette',\n",
       " u'viewings',\n",
       " u'stresses',\n",
       " u'stressed',\n",
       " u'amira',\n",
       " u'bra',\n",
       " u'devastation',\n",
       " u'tnt',\n",
       " u'err',\n",
       " u'cuddly',\n",
       " u'tng',\n",
       " u'era',\n",
       " u'subtleties',\n",
       " u'marco',\n",
       " u'confidential',\n",
       " u'nuts',\n",
       " u'bebop',\n",
       " u'bares',\n",
       " u'ladder',\n",
       " u'memorial',\n",
       " u'schneider',\n",
       " u'davies',\n",
       " u'innovative',\n",
       " u'production',\n",
       " u'understated',\n",
       " u'reasonably',\n",
       " u'routines',\n",
       " u'reasonable',\n",
       " u'feeds',\n",
       " u'dumping',\n",
       " u'stripes',\n",
       " u'daniel',\n",
       " u'barrier',\n",
       " u'enlightened',\n",
       " u'flawless',\n",
       " u'another',\n",
       " u'illustrate',\n",
       " u'dogg',\n",
       " u'seduction',\n",
       " u'dogs',\n",
       " u'alonso',\n",
       " u'guild',\n",
       " u'historical',\n",
       " u'respecting',\n",
       " u'enchanted',\n",
       " u'refreshingly',\n",
       " u'contents',\n",
       " u'convenient',\n",
       " u'subjects',\n",
       " u'massive',\n",
       " u'hammond',\n",
       " u'ramblings',\n",
       " u'swamp',\n",
       " u'aunt',\n",
       " u'reserve',\n",
       " u'stephens',\n",
       " u'haunted',\n",
       " u'runs',\n",
       " u'gears',\n",
       " u'horrendous',\n",
       " u'draws',\n",
       " u'shakti',\n",
       " u'pasted',\n",
       " u'cooperation',\n",
       " u'drawn',\n",
       " u'encounters',\n",
       " u'handful',\n",
       " u'succumbs',\n",
       " u'kitchen',\n",
       " u'essentially',\n",
       " u'excrement',\n",
       " u'coronation',\n",
       " u'tone',\n",
       " u'tong',\n",
       " u'imaginative',\n",
       " u'toni',\n",
       " u'condescending',\n",
       " u'tons',\n",
       " u'tony',\n",
       " u'gratitude',\n",
       " u'excite',\n",
       " u'artist',\n",
       " u'reworking',\n",
       " u'clunker',\n",
       " u'apparently',\n",
       " u'musically',\n",
       " u'quentin',\n",
       " u'vermont',\n",
       " u'humble',\n",
       " u'skillful',\n",
       " u'client',\n",
       " u'mic',\n",
       " u'newton',\n",
       " u'thanks',\n",
       " u'dorff',\n",
       " u'similarities',\n",
       " u'designers',\n",
       " u'cool',\n",
       " u'sparse',\n",
       " u'night',\n",
       " u'sadie',\n",
       " u'jacques',\n",
       " u'rendering',\n",
       " u'catalyst',\n",
       " u'different',\n",
       " u'heartstrings',\n",
       " u'request',\n",
       " u'test',\n",
       " u'tess',\n",
       " u'rendezvous',\n",
       " u'paige',\n",
       " u'songs',\n",
       " u'besson',\n",
       " u'concept',\n",
       " u'horseback',\n",
       " u'battle',\n",
       " u'hurry',\n",
       " u'aristocratic',\n",
       " u'rebecca',\n",
       " u'truncated',\n",
       " u'cunningham',\n",
       " u'turns',\n",
       " u'gun',\n",
       " u'gum',\n",
       " u'gus',\n",
       " u'gut',\n",
       " u'guy',\n",
       " u'thematically',\n",
       " u'rapist',\n",
       " u'barbie',\n",
       " u'shares',\n",
       " u'shared',\n",
       " u'handyman',\n",
       " u'teaches',\n",
       " u'teacher',\n",
       " u'sending',\n",
       " u'franklin',\n",
       " u'plotted',\n",
       " u'regardless',\n",
       " u'extra',\n",
       " u'fbi',\n",
       " u'satan',\n",
       " u'pushed',\n",
       " u'woefully',\n",
       " u'trans',\n",
       " u'chip',\n",
       " u'chin',\n",
       " u'chic',\n",
       " u'discussion',\n",
       " u'spreads',\n",
       " u'armies',\n",
       " u'drastic',\n",
       " u'grandson',\n",
       " u'kurt',\n",
       " u'clarke',\n",
       " u'brain',\n",
       " u'still',\n",
       " u'cloying',\n",
       " u'adrenaline',\n",
       " u'taliban',\n",
       " u'drop',\n",
       " u'challenged',\n",
       " u'yeah',\n",
       " u'challenges',\n",
       " u'challenger',\n",
       " u'year',\n",
       " u'monitors',\n",
       " u'wholeheartedly',\n",
       " u'fargo',\n",
       " u'transition',\n",
       " u'tangled',\n",
       " u'suffice',\n",
       " u'romania',\n",
       " u'flipping',\n",
       " u'tomorrow',\n",
       " u'thankless',\n",
       " u'pittsburgh',\n",
       " u'brains',\n",
       " u'professionals',\n",
       " u'transferred',\n",
       " u'shyamalan',\n",
       " u'orwell',\n",
       " u'greece',\n",
       " u'overnight',\n",
       " u'windsor',\n",
       " u'importantly',\n",
       " u'implications',\n",
       " u'premiered',\n",
       " u'teamed',\n",
       " u'embittered',\n",
       " u'chopin',\n",
       " u'stroll',\n",
       " u'burst',\n",
       " u'colours',\n",
       " u'toting',\n",
       " u'hurts',\n",
       " u'nile',\n",
       " u'downtrodden',\n",
       " u'madness',\n",
       " u'foreboding',\n",
       " u'inexplicable',\n",
       " u'inexplicably',\n",
       " u'bratz',\n",
       " u'charismatic',\n",
       " u'brats',\n",
       " u'tropical',\n",
       " u'dictator',\n",
       " u'elvis',\n",
       " u'offbeat',\n",
       " u'develop',\n",
       " u'food',\n",
       " u'neon',\n",
       " u'greetings',\n",
       " u'death',\n",
       " u'earnest',\n",
       " u'fortune',\n",
       " u'heightened',\n",
       " u'unrequited',\n",
       " u'output',\n",
       " u'verbal',\n",
       " u'exposed',\n",
       " u'tragedies',\n",
       " u'exposes',\n",
       " u'fractured',\n",
       " u'francis',\n",
       " u'mugging',\n",
       " u'trailer',\n",
       " u'backup',\n",
       " u'intervention',\n",
       " u'pitcher',\n",
       " u'pitched',\n",
       " u'embedded',\n",
       " u'freddy',\n",
       " u'fools',\n",
       " u'poor',\n",
       " u'poop',\n",
       " u'diaries',\n",
       " u'endeavors',\n",
       " u'whistling',\n",
       " u'pool',\n",
       " u'titillating',\n",
       " u'corey',\n",
       " u'overseas',\n",
       " u'ceases',\n",
       " u'thoughtful',\n",
       " u'bulb',\n",
       " u'religious',\n",
       " u'corps',\n",
       " u'wyoming',\n",
       " u'danielle',\n",
       " u'patently',\n",
       " u'decide',\n",
       " u'streets',\n",
       " u'orgasm',\n",
       " u'toilet',\n",
       " u'cues',\n",
       " u'timeline',\n",
       " u'pub',\n",
       " u'excess',\n",
       " u'cathartic',\n",
       " u'advertising',\n",
       " u'cathy',\n",
       " u'inspires',\n",
       " u'heroic',\n",
       " u'cannibalism',\n",
       " u'pretense',\n",
       " u'budgets',\n",
       " u'abner',\n",
       " u'surpassed',\n",
       " u'sigourney',\n",
       " u'reject',\n",
       " u'surpasses',\n",
       " u'communicating',\n",
       " u'criticize',\n",
       " u'anytime',\n",
       " u'roommates',\n",
       " u'almodovar',\n",
       " u'absence',\n",
       " u'ninja',\n",
       " u'lizzie',\n",
       " u'bless',\n",
       " u'fairy',\n",
       " u'obligated',\n",
       " u'heavy',\n",
       " u'mockumentary',\n",
       " u'dub',\n",
       " u'anarchy',\n",
       " u'jolly',\n",
       " u'earns',\n",
       " u'hapless',\n",
       " u'american',\n",
       " u'drooling',\n",
       " u'effortless',\n",
       " u'visions',\n",
       " u'merciless',\n",
       " u'trapped',\n",
       " u'tivo',\n",
       " u'assaulted',\n",
       " u'toward',\n",
       " u'wasnt',\n",
       " u'randomly',\n",
       " u'antonio',\n",
       " u'organs',\n",
       " u'boorish',\n",
       " u'adrift',\n",
       " u'blazing',\n",
       " u'caliber',\n",
       " u'soviet',\n",
       " u'confinement',\n",
       " u'jordan',\n",
       " u'physics',\n",
       " u'stalked',\n",
       " u'phenomenon',\n",
       " u'stalker',\n",
       " u'heavens',\n",
       " u'competing',\n",
       " u'boils',\n",
       " u'imitating',\n",
       " u'fluff',\n",
       " u'hype',\n",
       " u'locale',\n",
       " u'portrait',\n",
       " u'locals',\n",
       " u'abruptly',\n",
       " u'league',\n",
       " u'collaborators',\n",
       " u'minorities',\n",
       " u'jawed',\n",
       " u'canadians',\n",
       " u'empty',\n",
       " u'juicy',\n",
       " u'aaron',\n",
       " u'juice',\n",
       " u'unconvincingly',\n",
       " u'match',\n",
       " u'richter',\n",
       " u'sombre',\n",
       " u'queue',\n",
       " u'grant',\n",
       " u'sensual',\n",
       " u'grand',\n",
       " u'composition',\n",
       " u'classmates',\n",
       " u'fatty',\n",
       " u'obviously',\n",
       " u'synopsis',\n",
       " u'raimi',\n",
       " u'reviewed',\n",
       " u'reviewer',\n",
       " u'questioned',\n",
       " u'showing',\n",
       " u'dearly',\n",
       " u'cinemascope',\n",
       " u'adulterous',\n",
       " u'sketch',\n",
       " u'lips',\n",
       " u'gracie',\n",
       " u'dilapidated',\n",
       " u'camping',\n",
       " u'viewpoints',\n",
       " u'freddie',\n",
       " u'silence',\n",
       " u'alison',\n",
       " u'infuriating',\n",
       " u'placing',\n",
       " u'tragically',\n",
       " u'ideals',\n",
       " u'similar',\n",
       " u'ordered',\n",
       " u'dashed',\n",
       " u'fears',\n",
       " u'department',\n",
       " u'smiles',\n",
       " u'graphically',\n",
       " u'smiled',\n",
       " u'bribe',\n",
       " u'compact',\n",
       " u'renoir',\n",
       " u'telling',\n",
       " u'yourselves',\n",
       " u'watered',\n",
       " u'jump',\n",
       " u'notwithstanding',\n",
       " u'waitress',\n",
       " u'vampire',\n",
       " u'upsetting',\n",
       " u'pancake',\n",
       " u'cornball',\n",
       " u'clark',\n",
       " u'clare',\n",
       " u'manage',\n",
       " u'clara',\n",
       " u'caligula',\n",
       " u'locke',\n",
       " u'camera',\n",
       " u'boards',\n",
       " u'meek',\n",
       " u'servants',\n",
       " u'meet',\n",
       " u'wishes',\n",
       " u'links',\n",
       " u'pulling',\n",
       " u'sought',\n",
       " u'orson',\n",
       " u'rohmer',\n",
       " u'sentiments',\n",
       " u'ronald',\n",
       " u'famous',\n",
       " u'scoop',\n",
       " u'favourites',\n",
       " u'including',\n",
       " u'during',\n",
       " u'kher',\n",
       " u'hanson',\n",
       " u'university',\n",
       " u'slide',\n",
       " u'constitute',\n",
       " u'transitions',\n",
       " u'special',\n",
       " u'butch',\n",
       " u'mcmahon',\n",
       " u'littered',\n",
       " u'gloves',\n",
       " u'obsessive',\n",
       " u'darkly',\n",
       " u'switzerland',\n",
       " u'amato',\n",
       " u'timer',\n",
       " u'times',\n",
       " u'timed',\n",
       " u'humphrey',\n",
       " u'confuse',\n",
       " u'bitch',\n",
       " u'hines',\n",
       " u'enforcer',\n",
       " u'bastard',\n",
       " u'chatting',\n",
       " u'battles',\n",
       " u'blades',\n",
       " u'indy',\n",
       " u'unfinished',\n",
       " u'sheriff',\n",
       " u'hector',\n",
       " u'cameos',\n",
       " u'milian',\n",
       " u'tobacco',\n",
       " u'yearn',\n",
       " u'canine',\n",
       " u'dundee',\n",
       " u'tyra',\n",
       " u'ken',\n",
       " u'seams',\n",
       " u'kei',\n",
       " u'interfere',\n",
       " u'kicking',\n",
       " ...]"
      ]
     },
     "execution_count": 96,
     "metadata": {},
     "output_type": "execute_result"
    }
   ],
   "source": [
    "model.index2word"
   ]
  },
  {
   "cell_type": "markdown",
   "metadata": {},
   "source": [
    "#### Function: NP.ADD + NP.DIVIDE"
   ]
  },
  {
   "cell_type": "code",
   "execution_count": null,
   "metadata": {
    "collapsed": true
   },
   "outputs": [],
   "source": []
  },
  {
   "cell_type": "code",
   "execution_count": 153,
   "metadata": {
    "collapsed": true
   },
   "outputs": [],
   "source": [
    "def getAvgFeatureVecs(reviews, model, num_features):\n",
    "    # Given a set of review (each one a list words), calculate\n",
    "    # the average feature vector for each one and return a 2D numpy array\n",
    "    \n",
    "    # Initialize a counter\n",
    "    counter = 0\n",
    "    \n",
    "    # Preallocate a 2D numpy array --for speed\n",
    "    reviewFeatureVecs = np.zeros((len(reviews), num_features), dtype=\"float32\")\n",
    "    \n",
    "    \n",
    "    # Loop through the reviews\n",
    "    for review in reviews:\n",
    "        \n",
    "        #  Print a status message\n",
    "        if counter%1000. == 0.:\n",
    "            print \"Review %d of %d\" % (counter, len(reviews))\n",
    "        \n",
    "        #  Call the MAKEFEATUREVEC function defined above to create a feature vector\n",
    "        reviewFeatureVecs[counter] = makeFeatureVec(review, \\\n",
    "                                                    model,  \\\n",
    "                                                    num_features)\n",
    "        \n",
    "        #  Increment the counter\n",
    "        counter = counter+1\n",
    "    \n",
    "    return reviewFeatureVecs"
   ]
  },
  {
   "cell_type": "markdown",
   "metadata": {},
   "source": [
    "## Create average feature vectors for TRAIN reviews\n",
    "(Notice: we now use stop-word removal)\n",
    "\n",
    "### First clean the data of stop-words"
   ]
  },
  {
   "cell_type": "code",
   "execution_count": 155,
   "metadata": {
    "collapsed": false
   },
   "outputs": [],
   "source": [
    "clean_train_reviews = []\n",
    "\n",
    "for review in train[\"review\"]:\n",
    "    clean_train_reviews.append( review_to_wordlist(review, \\\n",
    "                                                   remove_stopwords=True))"
   ]
  },
  {
   "cell_type": "code",
   "execution_count": 156,
   "metadata": {
    "collapsed": false
   },
   "outputs": [
    {
     "name": "stdout",
     "output_type": "stream",
     "text": [
      "Review 0 of 25000\n",
      "Review 1000 of 25000\n",
      "Review 2000 of 25000\n",
      "Review 3000 of 25000\n",
      "Review 4000 of 25000\n",
      "Review 5000 of 25000\n",
      "Review 6000 of 25000\n",
      "Review 7000 of 25000\n",
      "Review 8000 of 25000\n",
      "Review 9000 of 25000\n",
      "Review 10000 of 25000\n",
      "Review 11000 of 25000\n",
      "Review 12000 of 25000\n",
      "Review 13000 of 25000\n",
      "Review 14000 of 25000\n",
      "Review 15000 of 25000\n",
      "Review 16000 of 25000\n",
      "Review 17000 of 25000\n",
      "Review 18000 of 25000\n",
      "Review 19000 of 25000\n",
      "Review 20000 of 25000\n",
      "Review 21000 of 25000\n",
      "Review 22000 of 25000\n",
      "Review 23000 of 25000\n",
      "Review 24000 of 25000\n"
     ]
    }
   ],
   "source": [
    "trainDataVecs = getAvgFeatureVecs(clean_train_reviews, model, num_features)"
   ]
  },
  {
   "cell_type": "markdown",
   "metadata": {},
   "source": [
    "## Creating average feature vectors for test reviews\n",
    "First clean the test reviews of stop-words"
   ]
  },
  {
   "cell_type": "code",
   "execution_count": 130,
   "metadata": {
    "collapsed": false
   },
   "outputs": [],
   "source": [
    "clean_test_reviews = []\n",
    "\n",
    "for singleReview in test[\"review\"]:\n",
    "    clean_test_reviews.append(review_to_wordlist(singleReview, \\\n",
    "                                                 remove_stopwords=True))"
   ]
  },
  {
   "cell_type": "code",
   "execution_count": 132,
   "metadata": {
    "collapsed": false
   },
   "outputs": [
    {
     "data": {
      "text/plain": [
       "'\"Naturally in a film who\\'s main themes are of mortality, nostalgia, and loss of innocence it is perhaps not surprising that it is rated more highly by older viewers than younger ones. However there is a craftsmanship and completeness to the film which anyone can enjoy. The pace is steady and constant, the characters full and engaging, the relationships and interactions natural showing that you do not need floods of tears to show emotion, screams to show fear, shouting to show dispute or violence to show anger. Naturally Joyce\\'s short story lends the film a ready made structure as perfect as a polished diamond, but the small changes Huston makes such as the inclusion of the poem fit in neatly. It is truly a masterpiece of tact, subtlety and overwhelming beauty.\"'"
      ]
     },
     "execution_count": 132,
     "metadata": {},
     "output_type": "execute_result"
    }
   ],
   "source": [
    "test[\"review\"][0]"
   ]
  },
  {
   "cell_type": "code",
   "execution_count": 157,
   "metadata": {
    "collapsed": false,
    "scrolled": true
   },
   "outputs": [
    {
     "name": "stdout",
     "output_type": "stream",
     "text": [
      "Review 0 of 25000\n",
      "Review 1000 of 25000\n",
      "Review 2000 of 25000\n",
      "Review 3000 of 25000\n",
      "Review 4000 of 25000\n",
      "Review 5000 of 25000\n",
      "Review 6000 of 25000\n",
      "Review 7000 of 25000\n",
      "Review 8000 of 25000\n",
      "Review 9000 of 25000\n",
      "Review 10000 of 25000\n",
      "Review 11000 of 25000\n",
      "Review 12000 of 25000\n",
      "Review 13000 of 25000\n",
      "Review 14000 of 25000\n",
      "Review 15000 of 25000\n",
      "Review 16000 of 25000\n",
      "Review 17000 of 25000\n",
      "Review 18000 of 25000\n",
      "Review 19000 of 25000\n",
      "Review 20000 of 25000\n",
      "Review 21000 of 25000\n",
      "Review 22000 of 25000\n",
      "Review 23000 of 25000\n",
      "Review 24000 of 25000\n"
     ]
    }
   ],
   "source": [
    "testDataVecs = getAvgFeatureVecs(clean_test_reviews, model, num_features)"
   ]
  },
  {
   "cell_type": "markdown",
   "metadata": {},
   "source": [
    "## Training a Random Forest on the Averaged Paragraph Vectors"
   ]
  },
  {
   "cell_type": "markdown",
   "metadata": {},
   "source": [
    "Next, we can use the average paragraph vectors to train a random forest.\n",
    "\n",
    "Note: As in part 1, we can only use the labeled traing reviews to train the model"
   ]
  },
  {
   "cell_type": "markdown",
   "metadata": {},
   "source": [
    "## Fit a random forest to the training data, using 100 trees\n",
    " 1. Instantiate a random forest classifier -- RANDOMFORESTCLASSIFER()\n",
    " 2. Fit the train data                     -- forest.FIT()\n",
    " 3. Predict using the test data            -- forest.PREDICT()\n",
    " 4. Save the results into a Dataframe      -- PD.DATAFRAME\n",
    " 5. Write the dataframe to a CSV-file      -- outputDF.TO_CSV()"
   ]
  },
  {
   "cell_type": "code",
   "execution_count": null,
   "metadata": {
    "collapsed": true
   },
   "outputs": [],
   "source": [
    "from sklearn.ensemble import RandomForestClassifier\n",
    "forest = RandomForestClassifier(n_estimators=100)\n",
    "\n",
    "forest = forest.fit(trainDataVecs, train[\"sentiment\"])"
   ]
  },
  {
   "cell_type": "markdown",
   "metadata": {},
   "source": [
    "## Test & extract results"
   ]
  },
  {
   "cell_type": "code",
   "execution_count": 169,
   "metadata": {
    "collapsed": true
   },
   "outputs": [],
   "source": [
    "result = forest.predict(testDataVecs)"
   ]
  },
  {
   "cell_type": "markdown",
   "metadata": {},
   "source": [
    "## Write the test results"
   ]
  },
  {
   "cell_type": "code",
   "execution_count": 182,
   "metadata": {
    "collapsed": true
   },
   "outputs": [],
   "source": [
    "output = pd.DataFrame(data={\"id\":test[\"id\"], \"sentiment\":result})\n",
    "output.to_csv(\"Word2Vec_AverageVectors.csv\", index=False, quoting=3)"
   ]
  },
  {
   "cell_type": "code",
   "execution_count": 183,
   "metadata": {
    "collapsed": false
   },
   "outputs": [
    {
     "data": {
      "text/plain": [
       "u'/Users/jason/Desktop/Learn/DeepLearningMovies'"
      ]
     },
     "execution_count": 183,
     "metadata": {},
     "output_type": "execute_result"
    }
   ],
   "source": [
    "%pwd"
   ]
  },
  {
   "cell_type": "markdown",
   "metadata": {},
   "source": [
    "## Inspect the results"
   ]
  },
  {
   "cell_type": "code",
   "execution_count": 199,
   "metadata": {
    "collapsed": false
   },
   "outputs": [
    {
     "name": "stdout",
     "output_type": "stream",
     "text": [
      "Review sentiment:0\n",
      "\n",
      "\"I enjoyed the Mr. Magoo cartoons I saw while growing up. And I enjoy Leslie Nielson's comic skills. So, I thought, this marriage must produce a funny child.<br /><br />I couldn't have been more wrong.<br /><br />This movie was just awful. I don't recall a single funny moment. This is one of the two or three times (in hundreds of films over the years) I've wanted my money back. You will leave this film dejected because you won't ever have that time back to use in a better way. In a comedy, the plot must draw in the viewer and serve as a framework for gags. This plot does neither. It just kinda lies there, gasping like a beached fish.\"\n"
     ]
    }
   ],
   "source": [
    "reviewNum = 20001\n",
    "\n",
    "print \"Review sentiment:\" + str(result[reviewNum]) + \"\\n\"\n",
    "print test[\"review\"][reviewNum]\n"
   ]
  },
  {
   "cell_type": "code",
   "execution_count": null,
   "metadata": {
    "collapsed": true
   },
   "outputs": [],
   "source": []
  }
 ],
 "metadata": {
  "kernelspec": {
   "display_name": "Python 2",
   "language": "python",
   "name": "python2"
  },
  "language_info": {
   "codemirror_mode": {
    "name": "ipython",
    "version": 2
   },
   "file_extension": ".py",
   "mimetype": "text/x-python",
   "name": "python",
   "nbconvert_exporter": "python",
   "pygments_lexer": "ipython2",
   "version": "2.7.9"
  }
 },
 "nbformat": 4,
 "nbformat_minor": 0
}
