{
 "cells": [
  {
   "cell_type": "code",
   "execution_count": null,
   "metadata": {
    "collapsed": true
   },
   "outputs": [],
   "source": [
    "import numpy\n",
    "import scipy.stats\n",
    "import pandas\n",
    "\n",
    "def compare_averages(filename):\n",
    "    \"\"\"\n",
    "    Performs a t-test on two sets of baseball data (left-handed and right-handed hitters).\n",
    "\n",
    "    You will be given a csv file that has three columns.  A player's\n",
    "    name, handedness (L for lefthanded or R for righthanded) and their\n",
    "    career batting average (called 'avg'). You can look at the csv\n",
    "    file by downloading the baseball_stats file from Downloadables below. \n",
    "    \n",
    "    Write a function that will read that the csv file into a pandas data frame,\n",
    "    and run Welch's t-test on the two cohorts defined by handedness.\n",
    "    \n",
    "    One cohort should be a data frame of right-handed batters. And the other\n",
    "    cohort should be a data frame of left-handed batters.\n",
    "    \n",
    "    We have included the scipy.stats library to help you write\n",
    "    or implement Welch's t-test:\n",
    "    http://docs.scipy.org/doc/scipy/reference/stats.html\n",
    "    \n",
    "    With a significance level of 95%, if there is no difference\n",
    "    between the two cohorts, return a tuple consisting of\n",
    "    True, and then the tuple returned by scipy.stats.ttest.  \n",
    "    \n",
    "    If there is a difference, return a tuple consisting of\n",
    "    False, and then the tuple returned by scipy.stats.ttest.\n",
    "    \n",
    "    For example, the tuple that you return may look like:\n",
    "    (True, (9.93570222, 0.000023))\n",
    "    \"\"\"\n",
    "\n",
    "    \n",
    "    \n",
    "    \n",
    "    # scipy.stats.ttest_ind(a, b, axis=0, equal_var=True)\n"
   ]
  },
  {
   "cell_type": "code",
   "execution_count": null,
   "metadata": {
    "collapsed": true
   },
   "outputs": [],
   "source": []
  }
 ],
 "metadata": {
  "kernelspec": {
   "display_name": "Python 2",
   "language": "python",
   "name": "python2"
  },
  "language_info": {
   "codemirror_mode": {
    "name": "ipython",
    "version": 2
   },
   "file_extension": ".py",
   "mimetype": "text/x-python",
   "name": "python",
   "nbconvert_exporter": "python",
   "pygments_lexer": "ipython2",
   "version": "2.7.9"
  }
 },
 "nbformat": 4,
 "nbformat_minor": 0
}
